{
 "cells": [
  {
   "cell_type": "markdown",
   "metadata": {},
   "source": [
    "# XOR logical operator implemented in Keras\n",
    "\n",
    "<br>\n",
    "\n",
    "Simple example of Keras usage implementing the XOR logical operator.\n",
    "\n",
    "<br>\n",
    "\n",
    "### XOR truth table reminder :\n",
    "\n",
    "<br>\n",
    "\n",
    "| Input | Output |\n",
    "|:-----:|:------:|\n",
    "| (0,0) |    0   |\n",
    "| (0,1) |    1   |\n",
    "| (1,0) |    1   |\n",
    "| (1,1) |    0   |"
   ]
  },
  {
   "cell_type": "markdown",
   "metadata": {},
   "source": [
    "### Imports"
   ]
  },
  {
   "cell_type": "code",
   "execution_count": 3,
   "metadata": {},
   "outputs": [],
   "source": [
    "import numpy as np\n",
    "from keras.utils import np_utils\n",
    "from keras.models import Sequential\n",
    "from keras.layers.core import Dense, Activation\n",
    "import tensorflow as tf"
   ]
  },
  {
   "cell_type": "markdown",
   "metadata": {},
   "source": [
    "### Model"
   ]
  },
  {
   "cell_type": "code",
   "execution_count": 27,
   "metadata": {},
   "outputs": [
    {
     "name": "stdout",
     "output_type": "stream",
     "text": [
      "\r",
      "4/4 [==============================] - 0s 20ms/step\n"
     ]
    }
   ],
   "source": [
    "# Inputs\n",
    "X = np.array([[0,0],[0,1],[1,0],[1,1]]).astype('float32')\n",
    "# True labels\n",
    "# It is only necessary to convert from binary target to categorical if it is desired \n",
    "# to use \"categorical_crossentropy\". This would be achieved with : y = np_utils.to_categorical(y).\n",
    "# If the current format of the targets/y is kept, the loss from the compile needs to be \"binary_crossentropy\" \n",
    "# The output layer must have 2 nodes for \"categorical_crossentropy\" and 1 for \"binary_crossentropy\".\n",
    "y = np.array([[0],[1],[1],[0]]).astype('float32')\n",
    "\n",
    "\n",
    "# Creates new sequential model\n",
    "xor = Sequential()\n",
    "\n",
    "# First input + hidden layer\n",
    "xor.add(Dense(8, input_dim=X.shape[1]))\n",
    "xor.add(Activation('tanh'))\n",
    "\n",
    "# Output layer\n",
    "xor.add(Dense(1))\n",
    "xor.add(Activation('sigmoid'))\n",
    "\n",
    "# Compile xor model\n",
    "xor.compile(loss=\"binary_crossentropy\", optimizer=\"adam\", metrics=['accuracy'])\n",
    "\n",
    "# Fitting model\n",
    "history = xor.fit(X, y, epochs=1000, verbose=0)\n",
    "\n",
    "score = xor.evaluate(X, y)"
   ]
  },
  {
   "cell_type": "code",
   "execution_count": 28,
   "metadata": {},
   "outputs": [
    {
     "name": "stdout",
     "output_type": "stream",
     "text": [
      "Accuracy :  1.0\n"
     ]
    }
   ],
   "source": [
    "print(\"Accuracy : \", score[-1])"
   ]
  },
  {
   "cell_type": "code",
   "execution_count": 33,
   "metadata": {},
   "outputs": [
    {
     "name": "stdout",
     "output_type": "stream",
     "text": [
      "Predictions : \n",
      " [[0.]\n",
      " [1.]\n",
      " [1.]\n",
      " [0.]]\n"
     ]
    }
   ],
   "source": [
    "print(\"Predictions : \\n\",xor.predict_proba(X).round())"
   ]
  }
 ],
 "metadata": {
  "kernelspec": {
   "display_name": "Python 3",
   "language": "python",
   "name": "python3"
  },
  "language_info": {
   "codemirror_mode": {
    "name": "ipython",
    "version": 3
   },
   "file_extension": ".py",
   "mimetype": "text/x-python",
   "name": "python",
   "nbconvert_exporter": "python",
   "pygments_lexer": "ipython3",
   "version": "3.7.3"
  }
 },
 "nbformat": 4,
 "nbformat_minor": 2
}
