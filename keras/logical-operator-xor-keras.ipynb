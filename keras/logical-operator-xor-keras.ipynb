{
 "cells": [
  {
   "cell_type": "markdown",
   "metadata": {},
   "source": [
    "# XOR logical operator implemented in Keras\n",
    "\n",
    "<br>\n",
    "\n",
    "Simple example of Keras usage implementing the XOR logical operator.\n",
    "\n",
    "<br>\n",
    "\n",
    "### XOR truth table reminder :\n",
    "\n",
    "<br>\n",
    "\n",
    "| Input | Output |\n",
    "|:-----:|:------:|\n",
    "| (0,0) |    0   |\n",
    "| (0,1) |    1   |\n",
    "| (1,0) |    1   |\n",
    "| (1,1) |    0   |"
   ]
  },
  {
   "cell_type": "markdown",
   "metadata": {},
   "source": [
    "### Imports"
   ]
  },
  {
   "cell_type": "code",
   "execution_count": 1,
   "metadata": {},
   "outputs": [],
   "source": [
    "import numpy as np\n",
    "from keras.utils import np_utils\n",
    "import tensorflow as tf"
   ]
  }
 ],
 "metadata": {
  "kernelspec": {
   "display_name": "Python 3",
   "language": "python",
   "name": "python3"
  },
  "language_info": {
   "codemirror_mode": {
    "name": "ipython",
    "version": 3
   },
   "file_extension": ".py",
   "mimetype": "text/x-python",
   "name": "python",
   "nbconvert_exporter": "python",
   "pygments_lexer": "ipython3",
   "version": "3.7.2"
  }
 },
 "nbformat": 4,
 "nbformat_minor": 2
}
