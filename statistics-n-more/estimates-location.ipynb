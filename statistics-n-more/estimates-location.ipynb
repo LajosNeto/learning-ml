{
 "cells": [
  {
   "cell_type": "markdown",
   "metadata": {},
   "source": [
    "# Estimates of location"
   ]
  },
  {
   "cell_type": "markdown",
   "metadata": {},
   "source": [
    "The estimates of location are useful for describing the overral behaviour of a variable.\n",
    "\n",
    "\"Get a typical value for each feature\" is the main ideia behind using those estimates.\n",
    "\n",
    "A single value that is able to describe a feature is way easier to study if compared to thousand of original inputs. \n",
    "\n",
    "Those estimates describe where most of the data is located ad, e.g. the central tendency."
   ]
  },
  {
   "cell_type": "code",
   "execution_count": 16,
   "metadata": {},
   "outputs": [],
   "source": [
    "import numpy as np\n",
    "import pandas as pd\n",
    "from scipy import stats"
   ]
  },
  {
   "cell_type": "markdown",
   "metadata": {},
   "source": [
    "### Mean"
   ]
  },
  {
   "cell_type": "markdown",
   "metadata": {},
   "source": [
    "The mean is the simplest of the location estimates.\n",
    "\n",
    "It is very weak against outliers."
   ]
  },
  {
   "cell_type": "code",
   "execution_count": 43,
   "metadata": {},
   "outputs": [],
   "source": [
    "def mean(numbers):\n",
    "    return sum(numbers)/len(numbers)"
   ]
  },
  {
   "cell_type": "markdown",
   "metadata": {},
   "source": [
    "If we have the following data for the income of a family members :\n",
    "\n",
    "[1000, 5500, 4250, 3700]\n",
    "\n",
    "Then the mean or average income for the family would be :"
   ]
  },
  {
   "cell_type": "code",
   "execution_count": 44,
   "metadata": {},
   "outputs": [
    {
     "data": {
      "text/plain": [
       "3612.5"
      ]
     },
     "execution_count": 44,
     "metadata": {},
     "output_type": "execute_result"
    }
   ],
   "source": [
    "mean([1000, 3700, 4250, 5500])"
   ]
  },
  {
   "cell_type": "markdown",
   "metadata": {},
   "source": [
    "But now, if there is one member within this family that makes much more money than the rest, \n",
    "\n",
    "the average income will be raised,not giving a trully overall description of that family average income :"
   ]
  },
  {
   "cell_type": "code",
   "execution_count": 23,
   "metadata": {},
   "outputs": [
    {
     "data": {
      "text/plain": [
       "22890.0"
      ]
     },
     "execution_count": 23,
     "metadata": {},
     "output_type": "execute_result"
    }
   ],
   "source": [
    "mean([1000, 3700, 4250, 5500, 100000])"
   ]
  },
  {
   "cell_type": "markdown",
   "metadata": {},
   "source": [
    "That's why the mean is weak for outliers."
   ]
  },
  {
   "cell_type": "markdown",
   "metadata": {},
   "source": [
    "### Trimmed mean"
   ]
  },
  {
   "cell_type": "markdown",
   "metadata": {},
   "source": [
    "If we take the same example form the simple mean, we could apply the trimmed mean.\n",
    "\n",
    "The trimmed mean remove a given percentage of values from both tails of a variable, \n",
    "\n",
    "being a little stronger to outliers if compared to the simple mean."
   ]
  },
  {
   "cell_type": "code",
   "execution_count": 25,
   "metadata": {},
   "outputs": [
    {
     "data": {
      "text/plain": [
       "4483.3"
      ]
     },
     "execution_count": 25,
     "metadata": {},
     "output_type": "execute_result"
    }
   ],
   "source": [
    "round(stats.trim_mean([1000, 5500, 4250, 3700, 100000], 0.2),1)"
   ]
  },
  {
   "cell_type": "markdown",
   "metadata": {},
   "source": [
    "### Weighted mean"
   ]
  },
  {
   "cell_type": "markdown",
   "metadata": {},
   "source": [
    "The weighted mean is useful in cases like :\n",
    "- there is a imbalance between classes (a class with more samples than other classes)\n",
    "- treat features that vary more or are less accurate than others (e.g. one sensor is less accurate than the others, give it a smaller weight)"
   ]
  },
  {
   "cell_type": "code",
   "execution_count": 38,
   "metadata": {},
   "outputs": [],
   "source": [
    "def weig_mean(values, weights):\n",
    "    return sum(s*w for s,w in zip(sensor_1, weights))/sum(weights)"
   ]
  },
  {
   "cell_type": "code",
   "execution_count": 39,
   "metadata": {},
   "outputs": [
    {
     "data": {
      "text/plain": [
       "16.61111111111111"
      ]
     },
     "execution_count": 39,
     "metadata": {},
     "output_type": "execute_result"
    }
   ],
   "source": [
    "sensor_values = [10, 11, 79, 11, 11, 48]\n",
    "weights = [2, 2, 0.5, 2, 2, 0.5] # less accurate sensor\n",
    "\n",
    "weig_mean(sensor_values, weights)"
   ]
  },
  {
   "cell_type": "markdown",
   "metadata": {},
   "source": [
    "### Median"
   ]
  },
  {
   "cell_type": "markdown",
   "metadata": {},
   "source": [
    "This is literally the point where half of the data lies above and the other half below."
   ]
  },
  {
   "cell_type": "code",
   "execution_count": 40,
   "metadata": {},
   "outputs": [],
   "source": [
    "def median(numbers):\n",
    "    size = len(numbers)\n",
    "    numbers = sorted(numbers)\n",
    "    middle = int(size/2)\n",
    "    return (numbers[middle-1] + numbers[middle])/2 if size%2 == 0 else numbers[middle]"
   ]
  }
 ],
 "metadata": {
  "kernelspec": {
   "display_name": "Python 3",
   "language": "python",
   "name": "python3"
  },
  "language_info": {
   "codemirror_mode": {
    "name": "ipython",
    "version": 3
   },
   "file_extension": ".py",
   "mimetype": "text/x-python",
   "name": "python",
   "nbconvert_exporter": "python",
   "pygments_lexer": "ipython3",
   "version": "3.7.0"
  }
 },
 "nbformat": 4,
 "nbformat_minor": 2
}
