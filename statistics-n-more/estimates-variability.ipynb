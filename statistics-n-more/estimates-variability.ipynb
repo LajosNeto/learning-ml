{
 "cells": [
  {
   "cell_type": "markdown",
   "metadata": {},
   "source": [
    "# Estimates of variability"
   ]
  },
  {
   "cell_type": "markdown",
   "metadata": {},
   "source": [
    "- The estimates of variability talks about the dispersion of the data\n",
    "- Points out characteristics like:\n",
    "    - tightly clustered data\n",
    "    - spread out data"
   ]
  },
  {
   "cell_type": "markdown",
   "metadata": {},
   "source": [
    "#### Imports"
   ]
  },
  {
   "cell_type": "code",
   "execution_count": 49,
   "metadata": {},
   "outputs": [],
   "source": [
    "import math\n",
    "import matplotlib.pyplot as plt\n",
    "import seaborn as sns"
   ]
  },
  {
   "cell_type": "markdown",
   "metadata": {},
   "source": [
    "#### Helper function"
   ]
  },
  {
   "cell_type": "code",
   "execution_count": 85,
   "metadata": {},
   "outputs": [],
   "source": [
    "def mean(numbers):\n",
    "    return sum(numbers)/len(numbers)\n",
    "\n",
    "def median(numbers):\n",
    "    size = len(numbers)\n",
    "    numbers = sorted(numbers)\n",
    "    middle = int(size/2)\n",
    "    return (numbers[middle-1] + numbers[middle])/2 if size%2 == 0 else numbers[middle]"
   ]
  },
  {
   "cell_type": "markdown",
   "metadata": {},
   "source": [
    "### Mean absolute deviation"
   ]
  },
  {
   "cell_type": "markdown",
   "metadata": {},
   "source": [
    "The MAD is basically the average distance between each data point and the mean. \n",
    "\n",
    "It tells us about the variability in a dataset.\n",
    "\n",
    "<br>\n",
    "\n",
    "*In some papers, the MAD is referenced as the MAE (Mean Absolute Error)*\n",
    "\n",
    "*The sum of the deviations from the mean is always 0!*"
   ]
  },
  {
   "cell_type": "code",
   "execution_count": 86,
   "metadata": {},
   "outputs": [],
   "source": [
    "def mean_ad(numbers):\n",
    "    m = mean(numbers)\n",
    "    return sum([abs(x-m) for x in numbers])/len(numbers)"
   ]
  },
  {
   "cell_type": "code",
   "execution_count": 87,
   "metadata": {},
   "outputs": [
    {
     "data": {
      "text/plain": [
       "1.3333333333333333"
      ]
     },
     "execution_count": 87,
     "metadata": {},
     "output_type": "execute_result"
    }
   ],
   "source": [
    "mean_ad([1,4,4])"
   ]
  },
  {
   "cell_type": "markdown",
   "metadata": {},
   "source": [
    "### Median absolute Deviation"
   ]
  },
  {
   "cell_type": "markdown",
   "metadata": {},
   "source": [
    "The median absolute deviation is the most outliers robust of the variability estimates.\n",
    "\n",
    "It is basically the  the median of the absolute deviations from the data's median."
   ]
  },
  {
   "cell_type": "code",
   "execution_count": 94,
   "metadata": {},
   "outputs": [],
   "source": [
    "def median_ad(numbers):\n",
    "    med = median(numbers)\n",
    "    return median([abs(x-med) for x in numbers])"
   ]
  },
  {
   "cell_type": "code",
   "execution_count": 95,
   "metadata": {},
   "outputs": [
    {
     "data": {
      "text/plain": [
       "5"
      ]
     },
     "execution_count": 95,
     "metadata": {},
     "output_type": "execute_result"
    }
   ],
   "source": [
    "median_ad([10, 20, 15, 25, 40])"
   ]
  },
  {
   "cell_type": "markdown",
   "metadata": {},
   "source": [
    "### Variance"
   ]
  },
  {
   "cell_type": "markdown",
   "metadata": {},
   "source": [
    "The variance is also used for calculating the deviation of a group of scores from the mean.\n",
    "\n",
    "Differently from the MAD that uses the absolute value of the deviation to eliminate negative values, the variance uses the square for that purpose.\n",
    "\n",
    "As a measure of variability, the variance is useful. If the scores in our group of data are spread out, the variance will be a large number. \n",
    "\n",
    "Conversely, if the scores are spread closely around the mean, the variance will be a smaller number. \n",
    "\n",
    "<br>\n",
    "\n",
    "*However, there are two potential problems with the variance.*\n",
    "- *First, because the deviations of scores from the mean are 'squared', this gives more weight to extreme scores. If our data contains outliers (in other words, one or a small number of scores that are particularly far away from the mean and perhaps do not represent well our data as a whole), this can give undo weight to these scores.*\n",
    "- *Secondly, the variance is not in the same units as the scores in our data set: variance is measured in the units squared. This means we cannot place it on our frequency distribution and cannot directly relate its value to the values in our data set.*\n",
    "\n",
    "<br>\n",
    "\n",
    "ref : https://statistics.laerd.com/statistical-guides/measures-of-spread-absolute-deviation-variance.php"
   ]
  },
  {
   "cell_type": "code",
   "execution_count": 31,
   "metadata": {},
   "outputs": [],
   "source": [
    "def var(numbers):\n",
    "    m = mean(numbers)\n",
    "    return sum([math.pow(x-m,2) for x in numbers])/len(numbers)"
   ]
  },
  {
   "cell_type": "code",
   "execution_count": 32,
   "metadata": {},
   "outputs": [
    {
     "data": {
      "text/plain": [
       "2.0"
      ]
     },
     "execution_count": 32,
     "metadata": {},
     "output_type": "execute_result"
    }
   ],
   "source": [
    "var([1,4,4])"
   ]
  },
  {
   "cell_type": "markdown",
   "metadata": {},
   "source": [
    "### Standard Deviation"
   ]
  },
  {
   "cell_type": "markdown",
   "metadata": {},
   "source": [
    "The standard deviation also measures the amount of variation or dispersion of a set of values.\n",
    "\n",
    "It is less robust than the MAD but unlike the variance, it is expressed in the same units as the data.\n",
    "\n",
    "The standard deviation is basically a measure that tells us which data points lies within a certain amount of standard deviations. This idea is the basis of the normal distribution.\n",
    "\n",
    "The standard deviation is the squared root of the variance.\n",
    "\n",
    "<br>\n",
    "\n",
    "*represented by the lower case Greek letter sigma σ for the population standard deviation or the Latin letter s for the sample standard deviation*"
   ]
  },
  {
   "cell_type": "code",
   "execution_count": 33,
   "metadata": {},
   "outputs": [],
   "source": [
    "def std(numbers):\n",
    "    return math.sqrt(var(numbers))"
   ]
  },
  {
   "cell_type": "markdown",
   "metadata": {},
   "source": [
    "Suppose we have the following data from the weights of a group of animals from a zoo :"
   ]
  },
  {
   "cell_type": "code",
   "execution_count": 80,
   "metadata": {},
   "outputs": [],
   "source": [
    "zoo_weights = [20, 30, 27, 50, 100, 150, 120, 130, 450, 370, 290, 1500]"
   ]
  },
  {
   "cell_type": "markdown",
   "metadata": {},
   "source": [
    "The mean would be :"
   ]
  },
  {
   "cell_type": "code",
   "execution_count": 81,
   "metadata": {},
   "outputs": [
    {
     "name": "stdout",
     "output_type": "stream",
     "text": [
      "269.75\n"
     ]
    }
   ],
   "source": [
    "m = mean(zoo_weights)\n",
    "print(m)"
   ]
  },
  {
   "cell_type": "markdown",
   "metadata": {},
   "source": [
    "And the standard deviation :"
   ]
  },
  {
   "cell_type": "code",
   "execution_count": 82,
   "metadata": {},
   "outputs": [
    {
     "name": "stdout",
     "output_type": "stream",
     "text": [
      "394.6146062932795\n"
     ]
    }
   ],
   "source": [
    "st = std(zoo_weights)\n",
    "print(st)"
   ]
  },
  {
   "cell_type": "code",
   "execution_count": 84,
   "metadata": {},
   "outputs": [
    {
     "data": {
      "image/png": "[encoded data removed]",
      "text/plain": [
       "<Figure size 432x288 with 1 Axes>"
      ]
     },
     "metadata": {
      "needs_background": "light"
     },
     "output_type": "display_data"
    }
   ],
   "source": [
    "ax = sns.distplot(zoo_weights)\n",
    "plt.axvline(mean(zoo_weights), color='red')\n",
    "plt.text(mean(zoo_weights),0.0035,'mean',rotation=90)\n",
    "plt.axvline(m+st, color='blue')\n",
    "plt.text(m+st,0.0035,'one std above',rotation=90)\n",
    "plt.axvline(m-st, color='blue')\n",
    "plt.text(m-st,0.0035,'one std below',rotation=90)\n",
    "plt.show()"
   ]
  },
  {
   "cell_type": "markdown",
   "metadata": {},
   "source": [
    "With the standard deviation information, we are now able to identify cases of extremely heavy or light animals, \n",
    "\n",
    "based on the standard deviation interval, that tells us what would be the common or normal weight of our zoo animais."
   ]
  }
 ],
 "metadata": {
  "kernelspec": {
   "display_name": "Python 3",
   "language": "python",
   "name": "python3"
  },
  "language_info": {
   "codemirror_mode": {
    "name": "ipython",
    "version": 3
   },
   "file_extension": ".py",
   "mimetype": "text/x-python",
   "name": "python",
   "nbconvert_exporter": "python",
   "pygments_lexer": "ipython3",
   "version": "3.7.0"
  }
 },
 "nbformat": 4,
 "nbformat_minor": 2
}
