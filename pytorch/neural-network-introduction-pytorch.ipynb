{
 "cells": [
  {
   "cell_type": "markdown",
   "metadata": {},
   "source": [
    "# Simple Neural Network introduction with Pytorch\n",
    "\n",
    "Playground space for testing Pytorch library features before applying in other projects. Here is also the place where some study practice will be done."
   ]
  },
  {
   "cell_type": "code",
   "execution_count": 11,
   "metadata": {},
   "outputs": [
    {
     "name": "stdout",
     "output_type": "stream",
     "text": [
      "Output, no matrix multiplication :  tensor([[0.9931]])\n",
      "Output, matrix multiplication :  tensor([[0.9931]])\n"
     ]
    }
   ],
   "source": [
    "import torch\n",
    "\n",
    "# Sigmoid activation function\n",
    "def activation(x):\n",
    "    return 1/(1+torch.exp(-x))\n",
    "\n",
    "# Inputs, weights and bias creation\n",
    "features = torch.randn((1,5))\n",
    "weights = torch.randn_like(features)\n",
    "bias = torch.randn((1,1))\n",
    "\n",
    "# Output without matrix multiplication\n",
    "y = activation((features*weights).sum() + bias)\n",
    "print(\"Output, no matrix multiplication : \",y)\n",
    "# Output with matrix multiplication\n",
    "y = activation(torch.mm(features, weights.view(5,1)) + bias)\n",
    "print(\"Output, matrix multiplication : \",y)"
   ]
  }
 ],
 "metadata": {
  "kernelspec": {
   "display_name": "Python 3",
   "language": "python",
   "name": "python3"
  },
  "language_info": {
   "codemirror_mode": {
    "name": "ipython",
    "version": 3
   },
   "file_extension": ".py",
   "mimetype": "text/x-python",
   "name": "python",
   "nbconvert_exporter": "python",
   "pygments_lexer": "ipython3",
   "version": "3.7.2"
  }
 },
 "nbformat": 4,
 "nbformat_minor": 2
}
