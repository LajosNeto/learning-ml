{
 "cells": [
  {
   "cell_type": "markdown",
   "metadata": {},
   "source": [
    "# Matrix multiplication with pytorch\n",
    "Implementation of a simple single layer neural network using matrix multiplication.\n",
    "\n",
    "The following NN architecture feedforward behaviour is implemented:\n",
    "\n",
    "<br>\n",
    "<img src=\"https://res.cloudinary.com/lajosneto/image/upload/v1562023818/learning-ml/single-layer-neural-network.png\" style=\"height:300px\">"
   ]
  },
  {
   "cell_type": "code",
   "execution_count": 4,
   "metadata": {},
   "outputs": [
    {
     "name": "stdout",
     "output_type": "stream",
     "text": [
      "Neural Network output :  tensor([[0.3171]])\n"
     ]
    }
   ],
   "source": [
    "import torch\n",
    "torch.manual_seed(7)\n",
    "\n",
    "# Sigmoid activation function\n",
    "def activation(x):\n",
    "    return 1/(1+torch.exp(-x))\n",
    "\n",
    "# Input features array : 3 features and 1 sample\n",
    "features = torch.randn((1,3))\n",
    "\n",
    "# Number of input units\n",
    "n_input = features.shape[1]\n",
    "# Number of units on hidden layer\n",
    "n_hidden = 2\n",
    "# Number of units on output layer\n",
    "n_output = 1\n",
    "\n",
    "# Weights for inputs -> hidden layer\n",
    "w1 = torch.randn((n_input, n_hidden))\n",
    "# Weights for hidden layer -> output layer\n",
    "w2 = torch.randn((n_hidden, n_output))\n",
    "\n",
    "# Bias for hidden layer(w1) and output layer(w2)\n",
    "b1 = torch.randn((1, n_hidden))\n",
    "b2 = torch.randn((1, n_output))\n",
    "\n",
    "# Run the feedforward process\n",
    "h1 = activation(torch.mm(features, w1) + b1)\n",
    "output = activation(torch.mm(h1, w2) + b2)\n",
    "\n",
    "print(\"Neural Network output : \", output)"
   ]
  },
  {
   "cell_type": "code",
   "execution_count": null,
   "metadata": {},
   "outputs": [],
   "source": []
  },
  {
   "cell_type": "code",
   "execution_count": null,
   "metadata": {},
   "outputs": [],
   "source": []
  }
 ],
 "metadata": {
  "kernelspec": {
   "display_name": "Python 3",
   "language": "python",
   "name": "python3"
  },
  "language_info": {
   "codemirror_mode": {
    "name": "ipython",
    "version": 3
   },
   "file_extension": ".py",
   "mimetype": "text/x-python",
   "name": "python",
   "nbconvert_exporter": "python",
   "pygments_lexer": "ipython3",
   "version": "3.7.2"
  }
 },
 "nbformat": 4,
 "nbformat_minor": 2
}
