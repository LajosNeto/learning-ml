{
 "cells": [
  {
   "cell_type": "markdown",
   "metadata": {},
   "source": [
    "### Import modules"
   ]
  },
  {
   "cell_type": "code",
   "execution_count": 9,
   "metadata": {},
   "outputs": [],
   "source": [
    "import pandas as pd\n",
    "import numpy as np\n",
    "from sklearn.datasets import load_boston\n",
    "from sklearn.linear_model import LinearRegression\n",
    "import matplotlib.pyplot as plt"
   ]
  },
  {
   "cell_type": "markdown",
   "metadata": {},
   "source": [
    "### Initialize parameters"
   ]
  },
  {
   "cell_type": "code",
   "execution_count": 4,
   "metadata": {},
   "outputs": [],
   "source": [
    "def initialize_parameters(n):\n",
    "    w = np.zeros(n,)\n",
    "    b = 0.0\n",
    "    return w,b"
   ]
  },
  {
   "cell_type": "markdown",
   "metadata": {},
   "source": [
    "### Predictor/Hypothesis"
   ]
  },
  {
   "cell_type": "code",
   "execution_count": 5,
   "metadata": {},
   "outputs": [],
   "source": [
    "def predictor(x, w, b):\n",
    "    return np.dot(x,w) + b"
   ]
  },
  {
   "cell_type": "markdown",
   "metadata": {},
   "source": [
    "### Cost function"
   ]
  },
  {
   "cell_type": "code",
   "execution_count": 6,
   "metadata": {},
   "outputs": [],
   "source": [
    "def calculate_cost(X, y, W, b):\n",
    "    m = len(y)\n",
    "    predictions = np.dot(X, W)\n",
    "    error = predictions - y\n",
    "    cost = 1/(2*m) * np.sum(np.power(error,2))\n",
    "    return cost"
   ]
  },
  {
   "cell_type": "markdown",
   "metadata": {},
   "source": [
    "### Gradient Descent"
   ]
  },
  {
   "cell_type": "code",
   "execution_count": 7,
   "metadata": {},
   "outputs": [],
   "source": [
    "def gradient_descent(X, W, b, y, learning_rate = 0.0001, epochs = 25, print_interval = 1):\n",
    "\n",
    "    m = len(y)\n",
    "    cost_history = []\n",
    "\n",
    "    for epoch in range(epochs):\n",
    "        predictions = predictor(X, W, b)\n",
    "        error = predictions - y\n",
    "        derivate = np.dot(error, X)\n",
    "        actual_cost = calculate_cost(X, y, W, b)\n",
    "        cost_history.append(actual_cost)\n",
    "        \n",
    "#         if (epoch % print_interval == 0):\n",
    "#             print(f\"Epoch : {epoch}\")\n",
    "#             print(f\"MSE : {actual_cost}\")\n",
    "                \n",
    "        W = W - (learning_rate/m) * derivate\n",
    "        b = b - (learning_rate/m) * error.sum()\n",
    "    \n",
    "    return W, b, cost_history"
   ]
  },
  {
   "cell_type": "markdown",
   "metadata": {},
   "source": [
    "### Run model"
   ]
  },
  {
   "cell_type": "code",
   "execution_count": 8,
   "metadata": {
    "scrolled": true
   },
   "outputs": [
    {
     "name": "stdout",
     "output_type": "stream",
     "text": [
      "Epoch : 0\n",
      "MSE : 296.0734584980237\n",
      "Epoch : 100000\n",
      "MSE : 18.167201226077015\n",
      "Epoch : 200000\n",
      "MSE : 15.390509260364105\n",
      "Epoch : 300000\n",
      "MSE : 13.95201977735776\n",
      "Epoch : 400000\n",
      "MSE : 13.20846862073576\n",
      "Epoch : 500000\n",
      "MSE : 12.826693917651905\n",
      "Epoch : 600000\n",
      "MSE : 12.633555060709215\n",
      "Epoch : 700000\n",
      "MSE : 12.538977450296072\n",
      "Epoch : 800000\n",
      "MSE : 12.496086386375874\n",
      "Epoch : 900000\n",
      "MSE : 12.480493733461705\n"
     ]
    }
   ],
   "source": [
    "# Load dataset\n",
    "boston = load_boston()\n",
    "data = pd.DataFrame(boston.data)\n",
    "data.columns = boston.feature_names\n",
    "data['PRICE'] = boston.target\n",
    "\n",
    "\n",
    "# Split dataset\n",
    "X = data.drop(columns=['PRICE']).values\n",
    "Y = data['PRICE'].values\n",
    "W, b = initialize_parameters(X.shape[1])\n",
    "W, b, cost_history = gradient_descent(X, W, b, Y, learning_rate=0.000005, epochs=1000000, print_interval=100000)"
   ]
  },
  {
   "cell_type": "code",
   "execution_count": 10,
   "metadata": {},
   "outputs": [
    {
     "data": {
      "text/plain": [
       "[<matplotlib.lines.Line2D at 0x12baf0128>]"
      ]
     },
     "execution_count": 10,
     "metadata": {},
     "output_type": "execute_result"
    },
    {
     "data": {
      "image/png": "[encoded data removed]",
      "text/plain": [
       "<Figure size 432x288 with 1 Axes>"
      ]
     },
     "metadata": {
      "needs_background": "light"
     },
     "output_type": "display_data"
    }
   ],
   "source": [
    "plt.plot(cost_history)"
   ]
  },
  {
   "cell_type": "markdown",
   "metadata": {},
   "source": [
    "### Compare accuracy - sklearn"
   ]
  },
  {
   "cell_type": "code",
   "execution_count": 14,
   "metadata": {},
   "outputs": [
    {
     "name": "stdout",
     "output_type": "stream",
     "text": [
      "Python implementation : [23.58413807]\n",
      "Sklearn implementation : [23.68284712]\n"
     ]
    }
   ],
   "source": [
    "sample_house = [[2.29690000e-01, 0.00000000e+00, 1.05900000e+01, 0.00000000e+00, 4.89000000e-01,\n",
    "            6.32600000e+00, 5.25000000e+01, 4.35490000e+00,     4.00000000e+00, 2.77000000e+02,\n",
    "            1.86000000e+01, 3.94870000e+02, 1.09700000e+01]]\n",
    "\n",
    "test_predict_custom = predictor(sample_house, W, b)\n",
    "\n",
    "model = LinearRegression()\n",
    "model.fit(X, Y)\n",
    "test_predict_sklearn = model.predict(sample_house)\n",
    "\n",
    "print(f\"Python implementation : {test_predict_custom}\")\n",
    "print(f\"Sklearn implementation : {test_predict_sklearn}\")"
   ]
  }
 ],
 "metadata": {
  "kernelspec": {
   "display_name": "Python 3",
   "language": "python",
   "name": "python3"
  },
  "language_info": {
   "codemirror_mode": {
    "name": "ipython",
    "version": 3
   },
   "file_extension": ".py",
   "mimetype": "text/x-python",
   "name": "python",
   "nbconvert_exporter": "python",
   "pygments_lexer": "ipython3",
   "version": "3.7.2"
  }
 },
 "nbformat": 4,
 "nbformat_minor": 2
}
