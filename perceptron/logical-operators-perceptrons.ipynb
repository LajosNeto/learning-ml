{
 "cells": [
  {
   "cell_type": "markdown",
   "metadata": {},
   "source": [
    "# Logical Operators with Perceptrons\n",
    "\n",
    "In this notebook the following logical operator are implemented using perceptrons :\n",
    "\n",
    "- AND\n",
    "- OR\n",
    "- NOT\n",
    "- XOR"
   ]
  },
  {
   "cell_type": "markdown",
   "metadata": {},
   "source": [
    "### Imports"
   ]
  },
  {
   "cell_type": "code",
   "execution_count": null,
   "metadata": {},
   "outputs": [],
   "source": [
    "import pandas as pd\n",
    "import numpy as np"
   ]
  },
  {
   "cell_type": "markdown",
   "metadata": {},
   "source": [
    "### AND Operator"
   ]
  },
  {
   "cell_type": "code",
   "execution_count": 9,
   "metadata": {},
   "outputs": [
    {
     "name": "stdout",
     "output_type": "stream",
     "text": [
      "False\n",
      "False\n",
      "False\n",
      "True\n"
     ]
    }
   ],
   "source": [
    "weight1 = 1\n",
    "weight2 = 1\n",
    "bias = -2\n",
    "\n",
    "inputs = [(0,0), (0,1), (1,0), (1,1)]\n",
    "\n",
    "for input in inputs:\n",
    "    linear_function_output = weight1*input[0] + weight2*input[1] + bias\n",
    "    activation = linear_function_output>=0\n",
    "    print(activation)"
   ]
  },
  {
   "cell_type": "markdown",
   "metadata": {},
   "source": [
    "### OR Operator"
   ]
  },
  {
   "cell_type": "code",
   "execution_count": 10,
   "metadata": {},
   "outputs": [
    {
     "name": "stdout",
     "output_type": "stream",
     "text": [
      "False\n",
      "True\n",
      "True\n",
      "True\n"
     ]
    }
   ],
   "source": [
    "weight1 = 1\n",
    "weight2 = 1\n",
    "bias = -1\n",
    "\n",
    "inputs = [(0,0), (0,1), (1,0), (1,1)]\n",
    "\n",
    "for input in inputs:\n",
    "    linear_function_output = weight1*input[0] + weight2*input[1] + bias\n",
    "    activation = linear_function_output>=0\n",
    "    print(activation)"
   ]
  },
  {
   "cell_type": "markdown",
   "metadata": {},
   "source": [
    "### NOT Operator\n",
    "obs.: NOT operator is using only one input, the second one."
   ]
  },
  {
   "cell_type": "code",
   "execution_count": 11,
   "metadata": {},
   "outputs": [
    {
     "name": "stdout",
     "output_type": "stream",
     "text": [
      "True\n",
      "False\n",
      "True\n",
      "False\n"
     ]
    }
   ],
   "source": [
    "weight1 = 0\n",
    "weight2 = -1\n",
    "bias = 0\n",
    "\n",
    "inputs = [(0,0), (0,1), (1,0), (1,1)]\n",
    "\n",
    "for input in inputs:\n",
    "    linear_function_output = weight1*input[0] + weight2*input[1] + bias\n",
    "    activation = linear_function_output>=0\n",
    "    print(activation)"
   ]
  },
  {
   "cell_type": "markdown",
   "metadata": {},
   "source": [
    "### XOR Operator"
   ]
  },
  {
   "cell_type": "code",
   "execution_count": 13,
   "metadata": {},
   "outputs": [
    {
     "name": "stdout",
     "output_type": "stream",
     "text": [
      "False\n",
      "True\n",
      "True\n",
      "False\n"
     ]
    }
   ],
   "source": [
    "inputs = [(0,0), (0,1), (1,0), (1,1)]\n",
    "\n",
    "def and_activation(x1, x2):\n",
    "    return (1*x1 +1*x2 -2)>=0\n",
    "\n",
    "def or_activation(x1, x2):\n",
    "    return (1*x1 + 1*x2 -1)>=0\n",
    "\n",
    "def not_activation(x):\n",
    "    return (-1*x)>=0\n",
    "\n",
    "for input in inputs:\n",
    "    output = and_activation(\n",
    "        not_activation(and_activation(input[0], input[1])),\n",
    "        or_activation(input[0], input[1]))\n",
    "    print(output)"
   ]
  }
 ],
 "metadata": {
  "kernelspec": {
   "display_name": "Python 3",
   "language": "python",
   "name": "python3"
  },
  "language_info": {
   "codemirror_mode": {
    "name": "ipython",
    "version": 3
   },
   "file_extension": ".py",
   "mimetype": "text/x-python",
   "name": "python",
   "nbconvert_exporter": "python",
   "pygments_lexer": "ipython3",
   "version": "3.7.2"
  }
 },
 "nbformat": 4,
 "nbformat_minor": 2
}
