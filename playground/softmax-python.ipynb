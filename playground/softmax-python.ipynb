{
 "cells": [
  {
   "cell_type": "markdown",
   "metadata": {},
   "source": [
    "# Softmax Function in Python\n",
    "\n",
    "<br>\n",
    "\n",
    "Implementation os Softmax function from scratch in Python using Numpy library."
   ]
  },
  {
   "cell_type": "markdown",
   "metadata": {},
   "source": [
    "### Import"
   ]
  },
  {
   "cell_type": "code",
   "execution_count": 1,
   "metadata": {},
   "outputs": [],
   "source": [
    "import numpy as np"
   ]
  },
  {
   "attachments": {
    "Screen%20Shot%202019-06-16%20at%2018.31.26.png": {
     "image/png": "[encoded data removed]"
    }
   },
   "cell_type": "markdown",
   "metadata": {},
   "source": [
    "### Softmax function\n",
    "\n",
    "![Screen%20Shot%202019-06-16%20at%2018.31.26.png](attachment:Screen%20Shot%202019-06-16%20at%2018.31.26.png)"
   ]
  },
  {
   "cell_type": "code",
   "execution_count": 2,
   "metadata": {},
   "outputs": [],
   "source": [
    "def softmax(inputs):\n",
    "    base = np.sum(np.exp(inputs))\n",
    "    softmax_activations = []\n",
    "    for i in inputs:\n",
    "        softmax_activations.append(np.exp(i)/base)\n",
    "    return softmax_activations"
   ]
  },
  {
   "cell_type": "markdown",
   "metadata": {},
   "source": [
    "### Test"
   ]
  },
  {
   "cell_type": "code",
   "execution_count": 6,
   "metadata": {},
   "outputs": [
    {
     "name": "stdout",
     "output_type": "stream",
     "text": [
      "Correct output! \n",
      "Softmax activations => [0.09003057317038046, 0.24472847105479764, 0.6652409557748219]\n"
     ]
    }
   ],
   "source": [
    "inputs = [5, 6, 7]\n",
    "correct_output = [0.09003057317038046, 0.24472847105479764, 0.6652409557748219]\n",
    "\n",
    "softmax_activations = softmax(inputs)\n",
    "\n",
    "if(softmax_activations==correct_output):\n",
    "    print(\"Correct output! \\nSoftmax activations => {}\".format(softmax_activations))\n",
    "else:\n",
    "    print(\"Wrong output\")"
   ]
  }
 ],
 "metadata": {
  "kernelspec": {
   "display_name": "Python 3",
   "language": "python",
   "name": "python3"
  },
  "language_info": {
   "codemirror_mode": {
    "name": "ipython",
    "version": 3
   },
   "file_extension": ".py",
   "mimetype": "text/x-python",
   "name": "python",
   "nbconvert_exporter": "python",
   "pygments_lexer": "ipython3",
   "version": "3.7.2"
  }
 },
 "nbformat": 4,
 "nbformat_minor": 2
}
