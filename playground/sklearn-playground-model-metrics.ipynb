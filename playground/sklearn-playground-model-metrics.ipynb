{
 "cells": [
  {
   "cell_type": "markdown",
   "metadata": {},
   "source": [
    "### Problem\n",
    "Practice of metrics for evaluating models performance.\n",
    "\n",
    "Some techniques used:\n",
    "\n",
    "    1.\n",
    "    \n",
    "    2.\n",
    "    \n",
    "    3.\n",
    "    \n",
    "    4."
   ]
  },
  {
   "cell_type": "markdown",
   "metadata": {},
   "source": [
    "#### Import"
   ]
  },
  {
   "cell_type": "code",
   "execution_count": 2,
   "metadata": {},
   "outputs": [],
   "source": [
    "import pandas as pd\n",
    "import numpy as np\n",
    "from sklearn.model_selection import train_test_split\n",
    "from sklearn.feature_extraction.text import CountVectorizer\n",
    "from sklearn.naive_bayes import MultinomialNB\n",
    "from sklearn.metrics import accuracy_score, precision_score, recall_score, f1_score\n",
    "from sklearn.ensemble import BaggingClassifier, RandomForestClassifier, AdaBoostClassifier\n",
    "from sklearn.svm import SVC"
   ]
  },
  {
   "cell_type": "markdown",
   "metadata": {},
   "source": [
    "#### Load Dataset and Preprocessing"
   ]
  },
  {
   "cell_type": "code",
   "execution_count": 24,
   "metadata": {},
   "outputs": [],
   "source": [
    "# Load dataset file, with no header, tab separator and columns label/sms_message\n",
    "dataset = pd.read_csv('../dataset/sms-spam-collection', sep='\\t', header=None, names=['label','sms_message'])\n",
    "\n",
    "# Change label value\n",
    "dataset['label'] = dataset.label.map({'ham': 0, 'spam':1})\n",
    "\n",
    "# Split train and test datasets\n",
    "X_train, X_test, y_train, y_test = train_test_split(dataset['sms_message'], dataset['label'], random_state = 1)\n",
    "\n",
    "# Instantiate CountVector\n",
    "count_vector = CountVectorizer()\n",
    "\n",
    "count_vector.fit(X_train)\n",
    "training_data = count_vector.transform(X_train)\n",
    "testing_data = count_vector.transform(X_test)"
   ]
  },
  {
   "cell_type": "markdown",
   "metadata": {},
   "source": [
    "#### Models"
   ]
  },
  {
   "cell_type": "code",
   "execution_count": 35,
   "metadata": {},
   "outputs": [],
   "source": [
    "# Create models\n",
    "naive_bayes = MultinomialNB()\n",
    "bag_mod = BaggingClassifier(n_estimators=200)\n",
    "rf_mod = RandomForestClassifier(n_estimators=200)\n",
    "ada_mod = AdaBoostClassifier(n_estimators=300, learning_rate=0.2)\n",
    "svm_mod = SVC(gamma='auto')\n",
    "\n",
    "# Fit models to the training data\n",
    "naive_bayes.fit(training_data, y_train)\n",
    "bag_mod.fit(training_data, y_train)\n",
    "rf_mod.fit(training_data, y_train)\n",
    "ada_mod.fit(training_data, y_train)\n",
    "svm_mod.fit(training_data, y_train)\n",
    "\n",
    "# Predictions\n",
    "naive_bayes_preds = naive_bayes.predict(testing_data)\n",
    "bag_mod_preds = bag_mod.predict(testing_data)\n",
    "rf_mod_preds = rf_mod.predict(testing_data)\n",
    "ada_mod_preds = ada_mod.predict(testing_data)\n",
    "svm_mod_preds = svm_mod.predict(testing_data)"
   ]
  },
  {
   "cell_type": "markdown",
   "metadata": {},
   "source": [
    "#### Metrics"
   ]
  },
  {
   "cell_type": "code",
   "execution_count": 114,
   "metadata": {},
   "outputs": [],
   "source": [
    "# Calculates the model accuracy\n",
    "# Reminder: accuracy is not a good metrics when we have imbalanced classes\n",
    "def accuracy(actual, preds):\n",
    "    # when doing preds == actual, it is checked how many of the comparisons are True\n",
    "    return np.sum(preds == actual)/len(actual)\n",
    "\n",
    "# Calculates model precision\n",
    "# Reminder: when we identify something as positive, we want to be sure it is truly positive\n",
    "def precision(actual, preds):\n",
    "    true_positives = len(np.intersect1d(np.where(preds==1), np.where(actual==1)))\n",
    "    preds_positives = (preds==1).sum()\n",
    "    return true_positives/preds_positives\n",
    "\n",
    "# Calculates model recall\n",
    "# Reminder: the most important is to capture all positives cases even if that means to \n",
    "# identify some negatives as positives\n",
    "def recall(actual, preds):\n",
    "    true_positives = len(np.intersect1d(np.where(preds==1), np.where(actual==1)))\n",
    "    actual_positives = (actual==1).sum()\n",
    "    return true_positives/actual_positives\n",
    "    \n",
    "# Calculates model f1 score\n",
    "# Reminder: We care equally about identifying positive and negative cases\n",
    "def f1(actual, preds):\n",
    "    _precision = precision(actual, preds)\n",
    "    _recall = recall(actual, preds)\n",
    "    return 2*(_precision*_recall)/(_precision+_recall)"
   ]
  },
  {
   "cell_type": "code",
   "execution_count": 115,
   "metadata": {},
   "outputs": [
    {
     "data": {
      "text/plain": [
       "0.9405405405405406"
      ]
     },
     "execution_count": 115,
     "metadata": {},
     "output_type": "execute_result"
    }
   ],
   "source": [
    "recall(y_test, naive_bayes_preds)"
   ]
  },
  {
   "cell_type": "code",
   "execution_count": null,
   "metadata": {},
   "outputs": [],
   "source": []
  }
 ],
 "metadata": {
  "kernelspec": {
   "display_name": "Python 3",
   "language": "python",
   "name": "python3"
  },
  "language_info": {
   "codemirror_mode": {
    "name": "ipython",
    "version": 3
   },
   "file_extension": ".py",
   "mimetype": "text/x-python",
   "name": "python",
   "nbconvert_exporter": "python",
   "pygments_lexer": "ipython3",
   "version": "3.7.2"
  }
 },
 "nbformat": 4,
 "nbformat_minor": 2
}
