{
 "cells": [
  {
   "cell_type": "markdown",
   "metadata": {},
   "source": [
    "# Gradient Descent from scratch with Python based on log loss function\n",
    "\n",
    "<br>\n",
    "\n",
    "This notebook will implement the Gradient Descent algorithm from scratch. The following implementation is based on the Log Loss function :\n",
    "\n",
    "<br>\n",
    "\n",
    "\\begin{equation*}\n",
    "Error(y,\\hat{y}) = -y \\log (\\hat{y})-(1-y)\\log(1-\\hat{y})\n",
    "\\end{equation*}"
   ]
  },
  {
   "cell_type": "markdown",
   "metadata": {},
   "source": [
    "### Imports\n"
   ]
  },
  {
   "cell_type": "code",
   "execution_count": 2,
   "metadata": {},
   "outputs": [],
   "source": [
    "import matplotlib.pyplot as plt\n",
    "import numpy as np\n",
    "import pandas as pd"
   ]
  },
  {
   "cell_type": "markdown",
   "metadata": {},
   "source": [
    "### Load dataset"
   ]
  },
  {
   "cell_type": "code",
   "execution_count": 18,
   "metadata": {},
   "outputs": [],
   "source": [
    "# header = None does not include header on dataframe, generating\n",
    "# numerical \"names\" for all columns\n",
    "dataset = np.asarray(pd.read_csv('../dataset/random_dataset4', header=None))\n",
    "X = dataset[:,:-1]\n",
    "y = dataset[:,-1]\n",
    "# y = np.array(dataset[[2]])"
   ]
  },
  {
   "cell_type": "code",
   "execution_count": 20,
   "metadata": {},
   "outputs": [
    {
     "data": {
      "image/png": "[encoded data removed]",
      "text/plain": [
       "<Figure size 432x288 with 1 Axes>"
      ]
     },
     "metadata": {
      "needs_background": "light"
     },
     "output_type": "display_data"
    }
   ],
   "source": [
    "label_dict = {0: 'blue', 1: 'red'}\n",
    "fig, ax = plt.subplots()\n",
    "for i in range(0, len(X)):\n",
    "    plt.scatter(X[i][0], X[i][1], color=label_dict[y[i]])\n",
    "plt.show()"
   ]
  },
  {
   "cell_type": "markdown",
   "metadata": {},
   "source": [
    "### Gradient Descent basic functions\n",
    "\n",
    "For the Gradient Descent implementation, the following formulas are used \n",
    ":\n",
    "\n",
    "<br>\n",
    "\n",
    "- Sigmoid activation\n",
    "<br>\n",
    "\n",
    "\\begin{equation*}\n",
    "\\sigma (x) = \\frac{1}{1+e^{-x}}\n",
    "\\end{equation*}\n",
    "\n",
    "<br>\n",
    "\n",
    "- Prediction\n",
    "\\begin{equation*}\n",
    "\\hat{y} =\\sigma(w_1x_1+w_2x_2+b)\n",
    "\\end{equation*}\n",
    "\n",
    "<br>\n",
    "\n",
    "- Log loss error function\n",
    "\\begin{equation*}\n",
    "Error(y,\\hat{y}) = -y \\log (\\hat{y})-(1-y)\\log(1-\\hat{y})\n",
    "\\end{equation*}\n",
    "\n",
    "<br>\n",
    "\n",
    "- Weights and bias update rules\n",
    "\\begin{equation*}\n",
    "w_i\\rightarrow w_i+\\alpha(y-\\hat{y})x_i\n",
    "\\end{equation*}\n",
    "\\begin{equation*}\n",
    "b\\rightarrow b+\\alpha(y-\\hat{y})\n",
    "\\end{equation*}\n"
   ]
  },
  {
   "cell_type": "code",
   "execution_count": 23,
   "metadata": {},
   "outputs": [],
   "source": [
    "def sigmoid(x):\n",
    "    return 1/(1+np.exp(-x))\n",
    "\n",
    "def predict(X, w, b):\n",
    "    return sigmoid(np.dot(X, w) + b)\n",
    "\n",
    "def log_loss_error(y, y_pred):\n",
    "    return -y*np.log(y_pred) - (1 - y) * np.log(1-y_pred)\n",
    "\n",
    "def update_weights(X, y, w, b, learning_rate):\n",
    "    y_pred = predict(X, w, b)\n",
    "    w += learning_rate * (y - y_pred) * X\n",
    "    b += learning_rate * (y - y_pred)\n",
    "    return w, b"
   ]
  },
  {
   "cell_type": "code",
   "execution_count": null,
   "metadata": {},
   "outputs": [],
   "source": []
  }
 ],
 "metadata": {
  "kernelspec": {
   "display_name": "Python 3",
   "language": "python",
   "name": "python3"
  },
  "language_info": {
   "codemirror_mode": {
    "name": "ipython",
    "version": 3
   },
   "file_extension": ".py",
   "mimetype": "text/x-python",
   "name": "python",
   "nbconvert_exporter": "python",
   "pygments_lexer": "ipython3",
   "version": "3.7.2"
  }
 },
 "nbformat": 4,
 "nbformat_minor": 2
}
