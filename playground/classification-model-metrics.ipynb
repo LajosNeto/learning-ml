{
 "cells": [
  {
   "cell_type": "markdown",
   "metadata": {},
   "source": [
    "### Problem\n",
    "Practice of metrics for evaluating models performance.\n",
    "\n",
    "Techniques used and implemented :\n",
    "\n",
    "    1. Accuracy score\n",
    "    \n",
    "    2. Precision score\n",
    "    \n",
    "    3. Recall score\n",
    "    \n",
    "    4. f1 score"
   ]
  },
  {
   "cell_type": "markdown",
   "metadata": {},
   "source": [
    "#### Import"
   ]
  },
  {
   "cell_type": "code",
   "execution_count": 137,
   "metadata": {},
   "outputs": [],
   "source": [
    "import pandas as pd\n",
    "import numpy as np\n",
    "from sklearn.model_selection import train_test_split\n",
    "from sklearn.feature_extraction.text import CountVectorizer\n",
    "from sklearn.naive_bayes import MultinomialNB\n",
    "from sklearn.metrics import accuracy_score, precision_score, recall_score, f1_score\n",
    "from sklearn.ensemble import BaggingClassifier, RandomForestClassifier, AdaBoostClassifier\n",
    "from sklearn.svm import SVC\n",
    "from sklearn.metrics import fbeta_score"
   ]
  },
  {
   "cell_type": "markdown",
   "metadata": {},
   "source": [
    "#### Load Dataset and Preprocessing"
   ]
  },
  {
   "cell_type": "code",
   "execution_count": 24,
   "metadata": {},
   "outputs": [],
   "source": [
    "# Load dataset file, with no header, tab separator and columns label/sms_message\n",
    "dataset = pd.read_csv('../dataset/sms-spam-collection', sep='\\t', header=None, names=['label','sms_message'])\n",
    "\n",
    "# Change label value\n",
    "dataset['label'] = dataset.label.map({'ham': 0, 'spam':1})\n",
    "\n",
    "# Split train and test datasets\n",
    "X_train, X_test, y_train, y_test = train_test_split(dataset['sms_message'], dataset['label'], random_state = 1)\n",
    "\n",
    "# Instantiate CountVector\n",
    "count_vector = CountVectorizer()\n",
    "\n",
    "count_vector.fit(X_train)\n",
    "training_data = count_vector.transform(X_train)\n",
    "testing_data = count_vector.transform(X_test)"
   ]
  },
  {
   "cell_type": "markdown",
   "metadata": {},
   "source": [
    "#### Models"
   ]
  },
  {
   "cell_type": "code",
   "execution_count": 35,
   "metadata": {},
   "outputs": [],
   "source": [
    "# Create models\n",
    "naive_bayes = MultinomialNB()\n",
    "bag_mod = BaggingClassifier(n_estimators=200)\n",
    "rf_mod = RandomForestClassifier(n_estimators=200)\n",
    "ada_mod = AdaBoostClassifier(n_estimators=300, learning_rate=0.2)\n",
    "svm_mod = SVC(gamma='auto')\n",
    "\n",
    "# Fit models to the training data\n",
    "naive_bayes.fit(training_data, y_train)\n",
    "bag_mod.fit(training_data, y_train)\n",
    "rf_mod.fit(training_data, y_train)\n",
    "ada_mod.fit(training_data, y_train)\n",
    "svm_mod.fit(training_data, y_train)\n",
    "\n",
    "# Predictions\n",
    "naive_bayes_preds = naive_bayes.predict(testing_data)\n",
    "bag_mod_preds = bag_mod.predict(testing_data)\n",
    "rf_mod_preds = rf_mod.predict(testing_data)\n",
    "ada_mod_preds = ada_mod.predict(testing_data)\n",
    "svm_mod_preds = svm_mod.predict(testing_data)"
   ]
  },
  {
   "cell_type": "markdown",
   "metadata": {},
   "source": [
    "#### Custom Metrics Implementation"
   ]
  },
  {
   "cell_type": "code",
   "execution_count": 116,
   "metadata": {},
   "outputs": [],
   "source": [
    "# Calculates the model accuracy\n",
    "# Reminder: accuracy is not a good metrics when we have imbalanced classes\n",
    "def accuracy(actual, preds):\n",
    "    # when doing preds == actual, it is checked how many of the comparisons are True\n",
    "    return np.sum(preds == actual)/len(actual)\n",
    "\n",
    "# Calculates model precision\n",
    "# Reminder: when we identify something as positive, we want to be sure it is truly positive\n",
    "def precision(actual, preds):\n",
    "    true_positives = len(np.intersect1d(np.where(preds==1), np.where(actual==1)))\n",
    "    preds_positives = (preds==1).sum()\n",
    "    return true_positives/preds_positives\n",
    "\n",
    "# Calculates model recall\n",
    "# Reminder: the most important is to capture all positives cases even if that means to \n",
    "# identify some negatives as positives\n",
    "def recall(actual, preds):\n",
    "    true_positives = len(np.intersect1d(np.where(preds==1), np.where(actual==1)))\n",
    "    actual_positives = (actual==1).sum()\n",
    "    return true_positives/actual_positives\n",
    "    \n",
    "# Calculates model f1 score\n",
    "# Reminder: We care equally about identifying positive and negative cases\n",
    "def f1(actual, preds):\n",
    "    _precision = precision(actual, preds)\n",
    "    _recall = recall(actual, preds)\n",
    "    return 2*(_precision*_recall)/(_precision+_recall)"
   ]
  },
  {
   "cell_type": "markdown",
   "metadata": {},
   "source": [
    "#### Comparison : Custom vs. Sklearn metrics functions"
   ]
  },
  {
   "cell_type": "code",
   "execution_count": 124,
   "metadata": {},
   "outputs": [
    {
     "name": "stdout",
     "output_type": "stream",
     "text": [
      "Custom Accuracy: 0.9885139985642498\n",
      "Sklearn Accuracy: 0.9885139985642498\n",
      "\n",
      "\n",
      "Custom Precision: 0.9720670391061452\n",
      "Sklearn Precision: 0.9720670391061452\n",
      "\n",
      "\n",
      "Custom Recall: 0.9405405405405406\n",
      "Sklearn Recall: 0.9405405405405406\n",
      "\n",
      "\n",
      "Custom f1: 0.9560439560439562\n",
      "Sklearn f1: 0.9560439560439562\n"
     ]
    }
   ],
   "source": [
    "print(\"Custom Accuracy: {}\".format(accuracy(y_test, naive_bayes_preds)))\n",
    "print(\"Sklearn Accuracy: {}\".format(accuracy_score(y_test, naive_bayes_preds)))\n",
    "print(\"\\n\")\n",
    "print(\"Custom Precision: {}\".format(precision(y_test, naive_bayes_preds)))\n",
    "print(\"Sklearn Precision: {}\".format(precision_score(y_test, naive_bayes_preds)))\n",
    "print(\"\\n\")\n",
    "print(\"Custom Recall: {}\".format(recall(y_test, naive_bayes_preds)))\n",
    "print(\"Sklearn Recall: {}\".format(recall_score(y_test, naive_bayes_preds)))\n",
    "print(\"\\n\")\n",
    "print(\"Custom f1: {}\".format(f1(y_test, naive_bayes_preds)))\n",
    "print(\"Sklearn f1: {}\".format(f1_score(y_test, naive_bayes_preds)))"
   ]
  },
  {
   "cell_type": "markdown",
   "metadata": {},
   "source": [
    "#### Displaying metrics"
   ]
  },
  {
   "cell_type": "code",
   "execution_count": 135,
   "metadata": {},
   "outputs": [],
   "source": [
    "def print_metrics(y_true, preds, model_name=None):\n",
    "    if model_name == None:\n",
    "        print('Accuracy Score: {}'.format(accuracy_score(y_true, preds)))\n",
    "        print('Precision Score: {}'.format(precision_score(y_true, preds)))\n",
    "        print('Recall Score: {}'.format(recall_score(y_true, preds)))\n",
    "        print('f1 Score: {}'.format(f1_score(y_true, preds)))\n",
    "        print(\"\\n\\n\")\n",
    "    else:\n",
    "        print('Accuracy Score for {}: {}'.format(model_name, accuracy_score(y_true, preds)))\n",
    "        print('Precision Score for {}: {}'.format(model_name, precision_score(y_true, preds)))\n",
    "        print('Recall Score for {}: {}'.format(model_name, recall_score(y_true, preds)))\n",
    "        print('f1 Score for {}: {}'.format(model_name, f1_score(y_true, preds)))\n",
    "        print(\"\\n\\n\")"
   ]
  },
  {
   "cell_type": "code",
   "execution_count": 136,
   "metadata": {},
   "outputs": [
    {
     "name": "stdout",
     "output_type": "stream",
     "text": [
      "Accuracy Score for bagging: 0.9748743718592965\n",
      "Precision Score for bagging: 0.9166666666666666\n",
      "Recall Score for bagging: 0.8918918918918919\n",
      "f1 Score for bagging: 0.9041095890410958\n",
      "\n",
      "\n",
      "\n",
      "Accuracy Score for random forest: 0.9827709978463748\n",
      "Precision Score for random forest: 1.0\n",
      "Recall Score for random forest: 0.8702702702702703\n",
      "f1 Score for random forest: 0.930635838150289\n",
      "\n",
      "\n",
      "\n",
      "Accuracy Score for adaboost: 0.9770279971284996\n",
      "Precision Score for adaboost: 0.9693251533742331\n",
      "Recall Score for adaboost: 0.8540540540540541\n",
      "f1 Score for adaboost: 0.9080459770114943\n",
      "\n",
      "\n",
      "\n",
      "Accuracy Score for naive bayes: 0.9885139985642498\n",
      "Precision Score for naive bayes: 0.9720670391061452\n",
      "Recall Score for naive bayes: 0.9405405405405406\n",
      "f1 Score for naive bayes: 0.9560439560439562\n",
      "\n",
      "\n",
      "\n",
      "Accuracy Score for svm: 0.8671931083991385\n",
      "Precision Score for svm: 0.0\n",
      "Recall Score for svm: 0.0\n",
      "f1 Score for svm: 0.0\n",
      "\n",
      "\n",
      "\n"
     ]
    }
   ],
   "source": [
    "print_metrics(y_test, bag_mod_preds, 'bagging')\n",
    "print_metrics(y_test, rf_mod_preds, 'random forest')\n",
    "print_metrics(y_test, ada_mod_preds, 'adaboost')\n",
    "print_metrics(y_test, naive_bayes_preds, 'naive bayes')\n",
    "print_metrics(y_test, svm_mod_preds, 'svm')"
   ]
  },
  {
   "cell_type": "markdown",
   "metadata": {},
   "source": [
    "#### Checking fbeta score"
   ]
  },
  {
   "cell_type": "code",
   "execution_count": 141,
   "metadata": {},
   "outputs": [
    {
     "name": "stdout",
     "output_type": "stream",
     "text": [
      "0.9041095890410958\n",
      "0.9041095890410958\n",
      "0.9041095890410958\n"
     ]
    }
   ],
   "source": [
    "# Sklearn fbeta implemenatation\n",
    "print(fbeta_score(y_test, bag_mod_preds, beta=1))\n",
    "# Sklearn f1 score implementation\n",
    "print(f1_score(y_test, bag_mod_preds))\n",
    "# Custom f1 score implementation\n",
    "print(f1(y_test, bag_mod_preds))"
   ]
  }
 ],
 "metadata": {
  "kernelspec": {
   "display_name": "Python 3",
   "language": "python",
   "name": "python3"
  },
  "language_info": {
   "codemirror_mode": {
    "name": "ipython",
    "version": 3
   },
   "file_extension": ".py",
   "mimetype": "text/x-python",
   "name": "python",
   "nbconvert_exporter": "python",
   "pygments_lexer": "ipython3",
   "version": "3.7.2"
  }
 },
 "nbformat": 4,
 "nbformat_minor": 2
}
