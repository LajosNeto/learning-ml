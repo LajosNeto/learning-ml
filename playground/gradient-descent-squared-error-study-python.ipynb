{
 "cells": [
  {
   "cell_type": "markdown",
   "metadata": {},
   "source": [
    "# Study of Gradient Descent with squared error in Python\n",
    "This notebook is a study of gradient descent technique in Python using the saqured error function.\n",
    "\n",
    "<br>\n",
    "\n",
    "Formulas reference:\n",
    "\n",
    "<br> \n",
    "\n",
    "- Weight update value\n",
    "$$ \\Delta w_i = \\alpha \\delta x_i $$ \n",
    "\n",
    "<br>\n",
    "\n",
    "- Error term\n",
    "$$ \\delta  = (y-\\hat{y}){f}'(h) = (y-\\hat{y}){f}'(\\sum w_i x_i) $$\n",
    "where : $(y-\\hat{y})$ is the output error, and ${f}'(h)$ is the derivative of the activation function, $f(h)$."
   ]
  },
  {
   "cell_type": "markdown",
   "metadata": {},
   "source": [
    "### Imports"
   ]
  },
  {
   "cell_type": "code",
   "execution_count": 2,
   "metadata": {},
   "outputs": [],
   "source": [
    "import numpy as np"
   ]
  },
  {
   "cell_type": "markdown",
   "metadata": {},
   "source": [
    "### Simple Python implementation\n",
    "Only one input unit, using sigmoid activation function $f(h)$."
   ]
  },
  {
   "cell_type": "code",
   "execution_count": 4,
   "metadata": {},
   "outputs": [
    {
     "name": "stdout",
     "output_type": "stream",
     "text": [
      "Neural Network output:\n",
      "0.6899744811276125\n",
      "Amount of Error:\n",
      "-0.1899744811276125\n",
      "Change in Weights:\n",
      "[array([-0.02031869, -0.04063738, -0.06095608, -0.08127477])]\n"
     ]
    }
   ],
   "source": [
    "# Sigmoid activation function\n",
    "def sigmoid(x):\n",
    "    return 1 / (1+np.exp(-x))\n",
    "\n",
    "# Derivative of the sigmoid activation function\n",
    "def sigmoid_prime(x):\n",
    "    return sigmoid(x) * (1 - sigmoid(x))\n",
    "\n",
    "# Simulation of gradient descent\n",
    "\n",
    "learning_rate = 0.5\n",
    "x = np.array([1, 2, 3, 4])\n",
    "y = np.array(0.5)\n",
    "w = np.array([0.5, -0.5, 0.3, 0.1])\n",
    "\n",
    "# Prediction or feedforward\n",
    "h = np.dot(x, w)\n",
    "\n",
    "# NN output\n",
    "output = sigmoid(h)\n",
    "\n",
    "# Error calculation\n",
    "error = (y - output)\n",
    "\n",
    "# Error term\n",
    "error_term = error * sigmoid_prime(h)\n",
    "\n",
    "# Weights update\n",
    "del_w = [learning_rate * error_term * x]\n",
    "\n",
    "print('Neural Network output:')\n",
    "print(output)\n",
    "print('Amount of Error:')\n",
    "print(error)\n",
    "print('Change in Weights:')\n",
    "print(del_w)"
   ]
  },
  {
   "cell_type": "code",
   "execution_count": null,
   "metadata": {},
   "outputs": [],
   "source": []
  }
 ],
 "metadata": {
  "kernelspec": {
   "display_name": "Python 3",
   "language": "python",
   "name": "python3"
  },
  "language_info": {
   "codemirror_mode": {
    "name": "ipython",
    "version": 3
   },
   "file_extension": ".py",
   "mimetype": "text/x-python",
   "name": "python",
   "nbconvert_exporter": "python",
   "pygments_lexer": "ipython3",
   "version": "3.7.2"
  }
 },
 "nbformat": 4,
 "nbformat_minor": 2
}
