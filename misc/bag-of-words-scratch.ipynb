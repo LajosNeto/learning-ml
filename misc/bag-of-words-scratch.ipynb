{
 "cells": [
  {
   "cell_type": "code",
   "execution_count": 31,
   "metadata": {},
   "outputs": [],
   "source": [
    "import string\n",
    "from collections import Counter"
   ]
  },
  {
   "cell_type": "code",
   "execution_count": 32,
   "metadata": {},
   "outputs": [],
   "source": [
    "sentences = ['Hello, how are you!',\n",
    "            'Win money, win from home.',\n",
    "            'Call me now.',\n",
    "            'Hello, Call you tomorrow?']\n",
    "\n",
    "# Lower case transform\n",
    "lower_case_sentences = []\n",
    "for i in sentences:\n",
    "    lower_case_sentences.append(i.lower())\n",
    "\n",
    "# Punctuation removal\n",
    "sans_punctuation_sentences = []\n",
    "translator = str.maketrans('','', string.punctuation)\n",
    "for i in lower_case_sentences:\n",
    "    sans_punctuation_sentences.append(i.translate(translator))\n",
    "\n",
    "# Tokenization\n",
    "preprocessed_sentences = []\n",
    "for i in sans_punctuation_sentences:\n",
    "    preprocessed_sentences.append(i.split(\" \"))\n",
    "\n",
    "# Occurence counter\n",
    "frequency_list = []\n",
    "for i in preprocessed_sentences:\n",
    "    frequency_list.append(dict(Counter(i)))"
   ]
  },
  {
   "cell_type": "code",
   "execution_count": 33,
   "metadata": {},
   "outputs": [
    {
     "data": {
      "text/plain": [
       "[{'hello': 1, 'how': 1, 'are': 1, 'you': 1},\n",
       " {'win': 2, 'money': 1, 'from': 1, 'home': 1},\n",
       " {'call': 1, 'me': 1, 'now': 1},\n",
       " {'hello': 1, 'call': 1, 'you': 1, 'tomorrow': 1}]"
      ]
     },
     "execution_count": 33,
     "metadata": {},
     "output_type": "execute_result"
    }
   ],
   "source": [
    "frequency_list"
   ]
  }
 ],
 "metadata": {
  "kernelspec": {
   "display_name": "Python 3",
   "language": "python",
   "name": "python3"
  },
  "language_info": {
   "codemirror_mode": {
    "name": "ipython",
    "version": 3
   },
   "file_extension": ".py",
   "mimetype": "text/x-python",
   "name": "python",
   "nbconvert_exporter": "python",
   "pygments_lexer": "ipython3",
   "version": "3.7.2"
  }
 },
 "nbformat": 4,
 "nbformat_minor": 2
}
