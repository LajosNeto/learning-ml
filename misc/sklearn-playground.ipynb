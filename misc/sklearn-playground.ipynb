{
 "cells": [
  {
   "cell_type": "markdown",
   "metadata": {},
   "source": [
    "## Sklearn Playground\n",
    "This notebook is used for general sklearn implementations and tests.\n",
    "\n",
    "Here you will find attempts to use/study sklearn module :)"
   ]
  },
  {
   "cell_type": "markdown",
   "metadata": {},
   "source": [
    "### Accuracy check\n",
    "Simple code for testing the accuracy_check function.\n",
    "\n",
    "The accuracy measures how many classifications were done correctly.\n",
    "\n",
    "It asnwers for instance the question : \"Out of the total data, how many did we classify correctly?\""
   ]
  },
  {
   "cell_type": "code",
   "execution_count": 56,
   "metadata": {},
   "outputs": [
    {
     "name": "stdout",
     "output_type": "stream",
     "text": [
      "The model accuracy is : 0.9583333333333334\n"
     ]
    }
   ],
   "source": [
    "from sklearn.tree import DecisionTreeClassifier\n",
    "from sklearn.metrics import accuracy_score\n",
    "from sklearn.model_selection import train_test_split\n",
    "import pandas as pd\n",
    "import numpy as np\n",
    "\n",
    "# Reading dataset and assigning feature to variable X and labels to variable y\n",
    "dataset = np.asarray(pd.read_csv('../dataset/random_dataset3', header=None))\n",
    "X = dataset[:,0:2]\n",
    "y = dataset[:,2]\n",
    "\n",
    "# Splitting dataset - 25% size and random state of 42\n",
    "X_train, X_test, y_train, y_test = train_test_split(X, y, test_size=0.25, random_state=42)\n",
    "\n",
    "# Create decision tree model\n",
    "model = DecisionTreeClassifier()\n",
    "\n",
    "# Fit model to data\n",
    "model.fit(X_train, y_train)\n",
    "\n",
    "# Predictions\n",
    "y_pred = model.predict(X_test)\n",
    "\n",
    "# Calculate model accuracy\n",
    "acc = accuracy_score(y_test, y_pred)\n",
    "\n",
    "print(\"The model accuracy is : {}\".format(acc))"
   ]
  }
 ],
 "metadata": {
  "kernelspec": {
   "display_name": "Python 3",
   "language": "python",
   "name": "python3"
  },
  "language_info": {
   "codemirror_mode": {
    "name": "ipython",
    "version": 3
   },
   "file_extension": ".py",
   "mimetype": "text/x-python",
   "name": "python",
   "nbconvert_exporter": "python",
   "pygments_lexer": "ipython3",
   "version": "3.7.2"
  }
 },
 "nbformat": 4,
 "nbformat_minor": 2
}
