{
 "cells": [
  {
   "attachments": {
    "Screen%20Shot%202019-06-24%20at%2022.06.32.png": {
     "image/png": "[encoded data removed]"
    }
   },
   "cell_type": "markdown",
   "metadata": {},
   "source": [
    "# Gradient Descent implementation in Python based on log loss function \n",
    "\n",
    "<br>\n",
    "\n",
    "In this notebook, a gradient descent algorithm is developed from scratch using Python. The gradient descent is based on the log loss function:\n",
    "\n",
    "<br>\n",
    "\n",
    "![Screen%20Shot%202019-06-24%20at%2022.06.32.png](attachment:Screen%20Shot%202019-06-24%20at%2022.06.32.png)\n",
    "\n",
    "<br>\n",
    "\n",
    "The algorithm will be tested against a random "
   ]
  },
  {
   "cell_type": "code",
   "execution_count": null,
   "metadata": {},
   "outputs": [],
   "source": []
  }
 ],
 "metadata": {
  "kernelspec": {
   "display_name": "Python 3",
   "language": "python",
   "name": "python3"
  },
  "language_info": {
   "codemirror_mode": {
    "name": "ipython",
    "version": 3
   },
   "file_extension": ".py",
   "mimetype": "text/x-python",
   "name": "python",
   "nbconvert_exporter": "python",
   "pygments_lexer": "ipython3",
   "version": "3.7.2"
  }
 },
 "nbformat": 4,
 "nbformat_minor": 2
}
