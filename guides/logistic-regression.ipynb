{
 "cells": [
  {
   "cell_type": "markdown",
   "metadata": {},
   "source": [
    "# Logistic Regression step-by-step"
   ]
  },
  {
   "cell_type": "markdown",
   "metadata": {},
   "source": [
    "This notebook explains Logistic Regression algorithm and all the math behind it based on a step by step approach.\n",
    "\n",
    "<br>\n",
    "\n",
    "Parts :\n",
    "- Empty weights and bias creation helper function\n",
    "- Prediction function\n",
    "- Log Loss function\n",
    "- Log Loss gradient calculator\n",
    "- Optimizer - Batch Gradient Descent (vanilla solver)\n",
    "- Optimization runner helper function\n",
    "\n",
    "<br>\n",
    "\n",
    "Steps :\n",
    "- Create empty weights and bias\n",
    "- Make a prediction based on a hypothesis function\n",
    "- Calculate the gradients based on the derivate of the loss function (Log Loss for logistic regression algorithm)\n",
    "- Update the values from the weights and bias based on the gradients from the preovious step"
   ]
  },
  {
   "cell_type": "markdown",
   "metadata": {},
   "source": [
    "### Imports"
   ]
  },
  {
   "cell_type": "code",
   "execution_count": 4,
   "metadata": {},
   "outputs": [],
   "source": [
    "import numpy as np\n",
    "from sklearn.datasets import load_breast_cancer"
   ]
  },
  {
   "cell_type": "markdown",
   "metadata": {},
   "source": [
    "### Load dataset"
   ]
  },
  {
   "cell_type": "code",
   "execution_count": 17,
   "metadata": {},
   "outputs": [],
   "source": [
    "dataset = load_breast_cancer()\n",
    "X = dataset.data\n",
    "y = dataset.target"
   ]
  },
  {
   "cell_type": "markdown",
   "metadata": {},
   "source": [
    "### Part - Empty weights and bias generator"
   ]
  },
  {
   "cell_type": "code",
   "execution_count": 18,
   "metadata": {},
   "outputs": [],
   "source": [
    "def create_weights_bias(features, random_state=42):\n",
    "    np.random.seed(random_state)\n",
    "    weights = np.random.rand(X.shape[1], 1).astype(np.float64)\n",
    "    bias = 0.0\n",
    "    return weights, bias"
   ]
  }
 ],
 "metadata": {
  "kernelspec": {
   "display_name": "Python 3",
   "language": "python",
   "name": "python3"
  },
  "language_info": {
   "codemirror_mode": {
    "name": "ipython",
    "version": 3
   },
   "file_extension": ".py",
   "mimetype": "text/x-python",
   "name": "python",
   "nbconvert_exporter": "python",
   "pygments_lexer": "ipython3",
   "version": "3.7.2"
  }
 },
 "nbformat": 4,
 "nbformat_minor": 2
}
