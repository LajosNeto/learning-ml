{
 "cells": [
  {
   "cell_type": "markdown",
   "metadata": {},
   "source": [
    "# Logistic Regression step-by-step"
   ]
  },
  {
   "cell_type": "markdown",
   "metadata": {},
   "source": [
    "This notebook explains Logistic Regression algorithm and all the math behind it based on a step by step approach.\n",
    "\n",
    "<br>\n",
    "\n",
    "Parts :\n",
    "- Empty weights and bias creation helper function\n",
    "- Prediction function\n",
    "- Log Loss function\n",
    "- Log Loss gradient calculator\n",
    "- Optimizer - Batch Gradient Descent (vanilla solver)\n",
    "- Optimization runner helper function\n",
    "\n",
    "<br>\n",
    "\n",
    "Steps :\n",
    "- Create empty weights and bias\n",
    "- Make a prediction based on a hypothesis function\n",
    "- Calculate the gradients based on the derivate of the loss function (Log Loss for logistic regression algorithm)\n",
    "- Update the values from the weights and bias based on the gradients from the preovious step"
   ]
  },
  {
   "cell_type": "markdown",
   "metadata": {},
   "source": [
    "### Background"
   ]
  },
  {
   "cell_type": "markdown",
   "metadata": {},
   "source": [
    "The Logistic Regression (or logit model) algorithmim is used to measure the uncertainty in the occurence of a binary output based on a linear model. The value of the output is bounded within the 0-1 range.\n",
    "<br>\n",
    "<br>\n",
    "It applies a dot product between the features and weights, outputing the 0-1 ranged value through a sigmoid function :\n",
    "<br>\n",
    "<br>\n",
    "<img src=\"https://res.cloudinary.com/lajosneto/image/upload/v1572838078/learning-ml/logistic-regression-guide/sigmoid.png\" style=\"width: 550px;height: 450px\"/>\n",
    "<br>"
   ]
  },
  {
   "cell_type": "markdown",
   "metadata": {},
   "source": [
    "### Imports"
   ]
  },
  {
   "cell_type": "code",
   "execution_count": 57,
   "metadata": {},
   "outputs": [],
   "source": [
    "import numpy as np\n",
    "from sklearn.datasets import load_breast_cancer"
   ]
  },
  {
   "cell_type": "markdown",
   "metadata": {},
   "source": [
    "### Load dataset"
   ]
  },
  {
   "cell_type": "code",
   "execution_count": 58,
   "metadata": {},
   "outputs": [],
   "source": [
    "dataset = load_breast_cancer()\n",
    "X = dataset.data\n",
    "y = dataset.target"
   ]
  },
  {
   "cell_type": "markdown",
   "metadata": {},
   "source": [
    "### Part - Empty weights and bias generator"
   ]
  },
  {
   "cell_type": "code",
   "execution_count": 59,
   "metadata": {},
   "outputs": [],
   "source": [
    "def create_weights_bias(features, random_state=42):\n",
    "    np.random.seed(random_state)\n",
    "    weights = np.random.rand(X.shape[1], 1).astype(np.float64)\n",
    "    bias = 0.0\n",
    "    return weights, bias"
   ]
  },
  {
   "cell_type": "markdown",
   "metadata": {},
   "source": [
    "### Part - Prediction function"
   ]
  },
  {
   "cell_type": "markdown",
   "metadata": {},
   "source": [
    "The prediction part takes the input features and weights, applying the dot product between them. \n",
    "<br>\n",
    "The result is summed up with the bias value.\n",
    "<br>\n",
    "Different from the Linear Regression where this would be the continuous value output, a sigmoid function is applied at the end, keeping the prediction values within the 0-1 range.\n",
    "<br>\n",
    "<br>\n",
    "<img src=\"https://res.cloudinary.com/lajosneto/image/upload/v1572820281/learning-ml/logistic-regression-guide/step-prediction.jpg\" style=\"width: 550px;height: 500px\"/>\n",
    "<br>"
   ]
  },
  {
   "cell_type": "code",
   "execution_count": 60,
   "metadata": {},
   "outputs": [],
   "source": [
    "def sigmoid(z):\n",
    "    return 1 / (1+np.exp(-z))\n",
    "\n",
    "def prediction(X, w, b):\n",
    "    return np.dot(X, w) + b"
   ]
  }
 ],
 "metadata": {
  "kernelspec": {
   "display_name": "Python 3",
   "language": "python",
   "name": "python3"
  },
  "language_info": {
   "codemirror_mode": {
    "name": "ipython",
    "version": 3
   },
   "file_extension": ".py",
   "mimetype": "text/x-python",
   "name": "python",
   "nbconvert_exporter": "python",
   "pygments_lexer": "ipython3",
   "version": "3.7.2"
  }
 },
 "nbformat": 4,
 "nbformat_minor": 2
}
